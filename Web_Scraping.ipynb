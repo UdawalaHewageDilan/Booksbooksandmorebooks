{
 "cells": [
  {
   "cell_type": "code",
   "execution_count": 1,
   "metadata": {},
   "outputs": [
    {
     "name": "stdout",
     "output_type": "stream",
     "text": [
      "Libraries Installed\n"
     ]
    }
   ],
   "source": [
    "from requests import get\n",
    "from bs4 import BeautifulSoup as Soup\n",
    "import pandas as pd\n",
    "import requests\n",
    "import numpy as np\n",
    "print(\"Libraries Installed\")"
   ]
  },
  {
   "cell_type": "code",
   "execution_count": 2,
   "metadata": {},
   "outputs": [],
   "source": [
    "url=get(\"https://www.goodreads.com/list/show/5\")\n",
    "request=url.text\n",
    "soup_data=Soup(request,\"html.parser\")"
   ]
  },
  {
   "cell_type": "code",
   "execution_count": 3,
   "metadata": {},
   "outputs": [],
   "source": [
    "#Creating URL list as a function\n",
    "def url_list(soup_data):\n",
    "    urls=soup_data.findAll(class_=\"bookTitle\")\n",
    "    url_list=[\"https://www.goodreads.com\"+str(list(str(url).split(\" \"))[2])[6::] for url in urls]\n",
    "    return url_list"
   ]
  },
  {
   "cell_type": "code",
   "execution_count": 4,
   "metadata": {},
   "outputs": [],
   "source": [
    "#Creating Title list as a function\n",
    "def title_list(soup_data):\n",
    "    titles=soup_data.findAll(class_=\"bookTitle\")\n",
    "    title_list=[title.text.strip() for title in titles]\n",
    "    return title_list"
   ]
  },
  {
   "cell_type": "code",
   "execution_count": 5,
   "metadata": {},
   "outputs": [],
   "source": [
    "#Creating Author list as a function\n",
    "def author_list(soup_data):\n",
    "    authors=soup_data.findAll(class_=\"authorName\")\n",
    "    author_list=[author.text for author in authors]\n",
    "    return author_list"
   ]
  },
  {
   "cell_type": "code",
   "execution_count": 6,
   "metadata": {},
   "outputs": [],
   "source": [
    "#Creating Rating list as a function\n",
    "def ratings_list(soup_data):\n",
    "    ratings=soup_data.findAll(\"div\",{\"id\":\"bookMeta\"})\n",
    "    try:\n",
    "        return ratings[0].find(\"a\",{\"class\":\"gr-hyperlink\"}).text.strip().split(\"\\n\")[0].replace(\",\",\"\")\n",
    "    except:\n",
    "        return np.nan"
   ]
  },
  {
   "cell_type": "code",
   "execution_count": 7,
   "metadata": {},
   "outputs": [],
   "source": [
    "#Creating Review list as a function\n",
    "def reviews_list(soup_data):\n",
    "    reviews=soup_data.findAll(\"div\",{\"id\":\"bookMeta\"})\n",
    "    try:\n",
    "        return int(reviews[0].text.strip().split(\"\\n\")[-2].strip().replace(\",\",\"\"))\n",
    "    except:\n",
    "        return np.nan"
   ]
  },
  {
   "cell_type": "code",
   "execution_count": 8,
   "metadata": {},
   "outputs": [],
   "source": [
    "#Creating Avg Rating list as a function\n",
    "def avg_list(soup_data):\n",
    "    avg_lists=[]\n",
    "    avg_ratings=soup_data.findAll(class_=\"minirating\")\n",
    "    for avg in range(len(avg_ratings)):\n",
    "        try:\n",
    "            avg_lists.append(round(float(avg_ratings[avg].text[0:4].strip())))\n",
    "        except:\n",
    "            avg_lists.append(np.nan)\n",
    "    return avg_lists"
   ]
  },
  {
   "cell_type": "code",
   "execution_count": 9,
   "metadata": {},
   "outputs": [],
   "source": [
    "#Creating Number of Page list as a function\n",
    "def pages_list(soup_data):\n",
    "    num_pages=soup_data.findAll(\"span\",{\"itemprop\":\"numberOfPages\"})\n",
    "    try:\n",
    "        return int(num_pages[0].text.split(\" \")[0])\n",
    "    except:\n",
    "        return np.nan"
   ]
  },
  {
   "cell_type": "code",
   "execution_count": 10,
   "metadata": {},
   "outputs": [],
   "source": [
    "#Creating Published Year list as a function\n",
    "def published_list(soup_data):\n",
    "    published_year=soup_data.findAll(\"div\",{\"id\":\"details\"})\n",
    "    published_list=[]\n",
    "    try:\n",
    "        return published_year[0].text.split(\"\\n\")[4][-4::]\n",
    "    except:\n",
    "        return np.nan"
   ]
  },
  {
   "cell_type": "code",
   "execution_count": 11,
   "metadata": {},
   "outputs": [],
   "source": [
    "#Creating Series Boolean list as a function\n",
    "def series_list(soup_data):\n",
    "    series=soup_data.findAll(\"h2\",{\"id\":\"bookSeries\"})\n",
    "    \n",
    "    try:\n",
    "        if series[0].text.strip()==\"\":\n",
    "            return 0\n",
    "        else:\n",
    "            return 1\n",
    "    except:\n",
    "        return np.nan\n"
   ]
  },
  {
   "cell_type": "code",
   "execution_count": 12,
   "metadata": {},
   "outputs": [],
   "source": [
    "#Creating Genres list as a function\n",
    "def genres_list(soup_data):\n",
    "    genres=soup_data.findAll(class_=\"rightContainer\")\n",
    "    genres_lists=[]\n",
    "    try:\n",
    "        for i in range(1,10,3):\n",
    "            genres_lists.append(genres[0].text.strip().split(\"Genres\")[1].split(\"\\n\\n\\n\")[i].split(\"\\n\")[-1].strip())\n",
    "        return genres_lists[0:3]\n",
    "    except:\n",
    "        return np.nan\n"
   ]
  },
  {
   "cell_type": "code",
   "execution_count": 13,
   "metadata": {},
   "outputs": [],
   "source": [
    "#Creating Awards list as a function\n",
    "def awards_list(soup_data):\n",
    "    awards=soup_data.findAll(class_=\"award\")\n",
    "    try:\n",
    "        awards_lists=[award.text.strip() for award in awards]\n",
    "        return awards_lists\n",
    "    except:\n",
    "        return np.nan"
   ]
  },
  {
   "cell_type": "code",
   "execution_count": 25,
   "metadata": {},
   "outputs": [],
   "source": [
    "#Creating Places List as a Function\n",
    "def places_list(soup_data):\n",
    "    places=soup_data.findAll(id=\"bookDataBox\")\n",
    "    try:\n",
    "        pre_list_places=places[0].text.split(\"\\nSetting\")[1].strip().split(\"Literary Awards\")[0].strip().split(\"\\n\\n\\n\")\n",
    "        places_lists=[places.strip().split(\"\\n\\n\") for places in pre_list_places ]\n",
    "        #deleting empty list values\n",
    "        filter_object = filter(lambda x: x != '', places_lists)\n",
    "        return list(filter_object)\n",
    "    except:\n",
    "        return np.nan\n",
    "    \n"
   ]
  },
  {
   "cell_type": "code",
   "execution_count": 72,
   "metadata": {},
   "outputs": [],
   "source": [
    "#Creating Function soup object as input\n",
    "def get_data(url):\n",
    "    url_get=get(url)\n",
    "    request=url_get.text\n",
    "    soup_data=Soup(request,\"html.parser\")\n",
    "    return soup_data\n",
    "\n",
    "#Creating Dataframe as a function\n",
    "def book(url):\n",
    "    soup_data=get_data(url)\n",
    "    \n",
    "    #Creating URL List From Function\n",
    "    url_lists=url_list(soup_data)\n",
    "\n",
    "    #Creating Title List From Function\n",
    "    title_lists=title_list(soup_data)\n",
    "    \n",
    "    #Creating Author List From Function\n",
    "    author_lists=author_list(soup_data)\n",
    "    \n",
    "    #Creating Avg List From Function\n",
    "    avg_lists=avg_list(soup_data)\n",
    "    \n",
    "    pages_lists,ratings_lists,reviews_lists,published_lists,series_lists,genres_lists,awards_lists,places_lists=[],[],[],[],[],[],[],[]\n",
    "\n",
    "    \n",
    "    #Creating \"for loop\" for iterating through the pages\n",
    "    for urls in url_lists:\n",
    "        soup_data2=get_data(urls)\n",
    "        \n",
    "        #Creating Pages List From Function\n",
    "        pages_lists.append(pages_list(soup_data2))\n",
    "        \n",
    "        #Creating Ratings List From Function\n",
    "        ratings_lists.append(ratings_list(soup_data2))\n",
    "        \n",
    "        #Creating Reviews List From Function\n",
    "        reviews_lists.append(reviews_list(soup_data2))\n",
    "        \n",
    "        #Creating Published Year List From Function\n",
    "        published_lists.append(published_list(soup_data2))\n",
    "        \n",
    "        #Creating Series Boolean List From Function\n",
    "        series_lists.append(series_list(soup_data2))\n",
    "        \n",
    "        #Creating Genres List From Function\n",
    "        genres_lists.append(genres_list(soup_data2))\n",
    "        \n",
    "        #Creating Awards List From Function\n",
    "        awards_lists.append(awards_list(soup_data2))\n",
    "          \n",
    "        #Creating Places List From Function\n",
    "        places_lists.append(places_list(soup_data2))\n",
    "\n",
    "    df_dict={\"URL\":url_lists,\"Title\":title_lists,\"Author\":author_lists,\"Number of Ratings\":ratings_lists,\"Number of Reviews\":reviews_lists,\n",
    "        \"Average Ratings\":avg_lists,\"Number of Pages\":pages_lists,\"Published Year\":published_lists,\n",
    "        \"Series\":series_lists,\"Genres\":genres_lists,\"Awards\":awards_lists,\"Places\":places_lists}\n",
    "    #df=pd.DataFrame(data=df_dict)\n",
    "    return df_dict\n",
    "    #return list(url_lists,title_lists,author_lists,ratings_lists,reviews_lists,avg_lists,pages_lists,published_lists,series_lists,genres_lists,awards_lists,places_lists)\n",
    "\n",
    "\n",
    "url=\"https://www.goodreads.com/list/show/5\"\n",
    "d=book(url)\n",
    "    \n",
    "    "
   ]
  },
  {
   "cell_type": "code",
   "execution_count": null,
   "metadata": {},
   "outputs": [],
   "source": [
    "#df.to_csv(r'C:\\Users\\aktum\\Desktop\\First.csv', index = False)\n"
   ]
  },
  {
   "cell_type": "code",
   "execution_count": null,
   "metadata": {},
   "outputs": [],
   "source": [
    "#Creating list page for 10 pages of books\n",
    "column_names=[\"URL\",\"Title\",\"Author\",\"Number of Ratings\",\"Number of Reviews\",\n",
    "        \"Average Ratings\",\"Number of Pages\",\"Published Year\",\n",
    "        \"Series\",\"Genres\",\"Awards\",\"Places\"]\n",
    "\n",
    "main_page=\"https://www.goodreads.com/list/show/5.Best_Books_of_the_Decade_2000s?page=\"\n",
    "list_pages={main_page+str(page) for page in range(2,3)}\n",
    "\n",
    "first_page=book(url)\n",
    "\n",
    "for page in list_pages:\n",
    "    next_page=book(page)\n",
    "    for column in column_names:\n",
    "        first_page[column].extend(next_page[column])\n",
    "df=pd.DataFrame(data=d)"
   ]
  },
  {
   "cell_type": "code",
   "execution_count": 77,
   "metadata": {},
   "outputs": [
    {
     "data": {
      "text/plain": [
       "{'https://www.goodreads.com/list/show/5.Best_Books_of_the_Decade_2000s?page=2',\n",
       " 'https://www.goodreads.com/list/show/5.Best_Books_of_the_Decade_2000s?page=3'}"
      ]
     },
     "execution_count": 77,
     "metadata": {},
     "output_type": "execute_result"
    }
   ],
   "source": [
    "main_page=\"https://www.goodreads.com/list/show/5.Best_Books_of_the_Decade_2000s?page=\"\n",
    "list_pages={main_page+str(page) for page in range(2,4)}\n",
    "list_pages"
   ]
  },
  {
   "cell_type": "code",
   "execution_count": null,
   "metadata": {},
   "outputs": [],
   "source": [
    "for url in list_pages:\n",
    "    page_lists=book(url)\n",
    "    for column in page_lists:\n",
    "        column.append(column)\n",
    "page_lists\n",
    "    \n",
    "    "
   ]
  },
  {
   "cell_type": "code",
   "execution_count": 68,
   "metadata": {},
   "outputs": [],
   "source": [
    "column_names=[\"URL\",\"Title\",\"Author\",\"Number of Ratings\",\"Number of Reviews\",\n",
    "        \"Average Ratings\",\"Number of Pages\",\"Published Year\",\n",
    "        \"Series\",\"Genres\",\"Awards\",\"Places\"]\n",
    "d1=d\n",
    "d2=d\n",
    "d3=d\n",
    "d4=d\n",
    "d5=d\n",
    "d6=d\n",
    "d7=d\n",
    "d8=d"
   ]
  },
  {
   "cell_type": "code",
   "execution_count": 70,
   "metadata": {},
   "outputs": [
    {
     "data": {
      "text/plain": [
       "{'URL': None,\n",
       " 'Title': None,\n",
       " 'Author': None,\n",
       " 'Number of Ratings': None,\n",
       " 'Number of Reviews': None,\n",
       " 'Average Ratings': None,\n",
       " 'Number of Pages': None,\n",
       " 'Published Year': None,\n",
       " 'Series': None,\n",
       " 'Genres': None,\n",
       " 'Awards': None,\n",
       " 'Places': None}"
      ]
     },
     "execution_count": 70,
     "metadata": {},
     "output_type": "execute_result"
    }
   ],
   "source": [
    "for column in column_names:\n",
    "    d1[column]=d1[column].append(d1[column])\n",
    "d1"
   ]
  },
  {
   "cell_type": "code",
   "execution_count": 71,
   "metadata": {},
   "outputs": [
    {
     "data": {
      "text/plain": [
       "{'URL': None,\n",
       " 'Title': None,\n",
       " 'Author': None,\n",
       " 'Number of Ratings': None,\n",
       " 'Number of Reviews': None,\n",
       " 'Average Ratings': None,\n",
       " 'Number of Pages': None,\n",
       " 'Published Year': None,\n",
       " 'Series': None,\n",
       " 'Genres': None,\n",
       " 'Awards': None,\n",
       " 'Places': None}"
      ]
     },
     "execution_count": 71,
     "metadata": {},
     "output_type": "execute_result"
    }
   ],
   "source": [
    "d2"
   ]
  },
  {
   "cell_type": "code",
   "execution_count": null,
   "metadata": {},
   "outputs": [],
   "source": []
  }
 ],
 "metadata": {
  "kernelspec": {
   "display_name": "Python 3",
   "language": "python",
   "name": "python3"
  },
  "language_info": {
   "codemirror_mode": {
    "name": "ipython",
    "version": 3
   },
   "file_extension": ".py",
   "mimetype": "text/x-python",
   "name": "python",
   "nbconvert_exporter": "python",
   "pygments_lexer": "ipython3",
   "version": "3.8.5"
  }
 },
 "nbformat": 4,
 "nbformat_minor": 4
}
